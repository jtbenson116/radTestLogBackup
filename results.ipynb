{
 "cells": [
  {
   "cell_type": "code",
   "execution_count": 32,
   "metadata": {},
   "outputs": [],
   "source": [
    "import pandas as pd\n",
    "import glob\n",
    "from datetime import datetime\n",
    "import matplotlib.pyplot as plt"
   ]
  },
  {
   "cell_type": "code",
   "execution_count": 42,
   "metadata": {},
   "outputs": [],
   "source": [
    "# helper functions for log parsing\n",
    "\n",
    "def pass_no_pass(lines):\n",
    "    for line in lines:\n",
    "        if \"PASSED\" in line:\n",
    "            return True\n",
    "        elif \"FAILED\" in line:\n",
    "            return False\n",
    "    return\n",
    "\n",
    "def parse_fp_for_int_diff(lines):\n",
    "    vals = {'expected': [], 'actual': []}\n",
    "    delimiters = [\" \", \"\\n\"]\n",
    "    for i in range(len(lines)):\n",
    "        if \"INT\" in lines[i]:\n",
    "            for delimiter in delimiters:\n",
    "                line = \" \".join(lines[i+1].split(delimiter))\n",
    "            split = list(map(int, line.split()))\n",
    "            if (\"Expected value of\" in lines[i]) and (\"in\" not in lines[i]):\n",
    "                # print(lines[i])\n",
    "                vals['expected'].append(split)\n",
    "            elif \"Last value of\" in lines[i]:\n",
    "                # print(lines[i])\n",
    "                vals['actual'].append(split)\n",
    "\n",
    "    diffs = []\n",
    "    for i in range(len(vals['actual'])):\n",
    "        for j in range(len(vals['actual'][i])):\n",
    "            if (vals['expected'][i][j]+1) != vals['actual'][i][j]:\n",
    "                diffs.append(vals['expected'][i][j]+1 - vals['actual'][i][j])\n",
    "    return diffs\n"
   ]
  },
  {
   "cell_type": "code",
   "execution_count": 43,
   "metadata": {},
   "outputs": [],
   "source": [
    "# create csv of testing logs\n",
    "# change bool to generate csv if not created\n",
    "gen_csv = True\n",
    "\n",
    "def generate_csv():\n",
    "\n",
    "    df = pd.DataFrame(columns=[\"kind\", \"run\", \"log\", \"lines\", \"time\", \"name\", \"path\", \"iters\", \"expected_vs_actual\", \"diff_count\", \"passed\"])\n",
    "\n",
    "    for filename in glob.iglob('**', recursive=True):\n",
    "        # skip exceptions, keep .txts with logs\n",
    "        if \"log\" not in filename or filename[-4:] != \".txt\" or \"exception\" in filename:\n",
    "            continue\n",
    "        tmp = filename.split('/')\n",
    "        if not len(tmp) - 1:\n",
    "            continue\n",
    "        fp = open(filename, 'r')\n",
    "        lines = fp.readlines()\n",
    "        fp.close()\n",
    "\n",
    "        kind, name = tmp[0], tmp[-1]\n",
    "\n",
    "        # TODO: something with GXL logs\n",
    "        if kind == \"gxld\":\n",
    "            continue\n",
    "\n",
    "        # get iteration count\n",
    "        iter = [line for line in lines if \"Exited\" in line][0].split()[-1]\n",
    "        # get count of i/o matches\n",
    "        int_diff = parse_fp_for_int_diff(lines)\n",
    "        # get pass/fail\n",
    "        passed = pass_no_pass(lines)\n",
    "\n",
    "\n",
    "        # parse datetime from file name\n",
    "        try:\n",
    "            time = datetime.strptime(filename[-21:-4], '%Y%m%d_%H-%M-%S') # everything but GXLD logs\n",
    "        except Exception:\n",
    "            try:\n",
    "                time = datetime.strptime(filename[-18:-4], '%m-%d-%y_%H-%M') # specifically for GXLD logs\n",
    "            except Exception as e:\n",
    "                raise(e)\n",
    "        \n",
    "        # get 'run' and 'log' numbers\n",
    "        runlog = name.split('_')[2]\n",
    "        run, log = [int(x) for x in runlog.split('run')[-1].split('log')]\n",
    "\n",
    "        row = {\"kind\": kind, \"run\":run, \"log\": log, \"lines\": len(lines), \"iters\": int(iter), \"time\": time, \"name\": name,\\\n",
    "            \"path\": filename, \"expected_vs_actual\": int_diff, \"diff_count\": len(int_diff), \"passed\": passed}\n",
    "        if df.name.str.contains(name).any():\n",
    "            continue\n",
    "        else:\n",
    "            df.loc[len(df), :] = row\n",
    "    df = df.sort_values(by=['kind', 'run', 'log']).reset_index(drop=True)\n",
    "    df.to_csv(\"./results.csv\", index=False)\n",
    "if gen_csv:\n",
    "    generate_csv()\n",
    "df = pd.read_csv(\"./results.csv\")"
   ]
  },
  {
   "cell_type": "code",
   "execution_count": 44,
   "metadata": {},
   "outputs": [
    {
     "data": {
      "text/html": [
       "<div>\n",
       "<style scoped>\n",
       "    .dataframe tbody tr th:only-of-type {\n",
       "        vertical-align: middle;\n",
       "    }\n",
       "\n",
       "    .dataframe tbody tr th {\n",
       "        vertical-align: top;\n",
       "    }\n",
       "\n",
       "    .dataframe thead th {\n",
       "        text-align: right;\n",
       "    }\n",
       "</style>\n",
       "<table border=\"1\" class=\"dataframe\">\n",
       "  <thead>\n",
       "    <tr style=\"text-align: right;\">\n",
       "      <th></th>\n",
       "      <th>kind</th>\n",
       "      <th>run</th>\n",
       "      <th>log</th>\n",
       "      <th>lines</th>\n",
       "      <th>time</th>\n",
       "      <th>name</th>\n",
       "      <th>path</th>\n",
       "      <th>iters</th>\n",
       "      <th>expected_vs_actual</th>\n",
       "      <th>diff_count</th>\n",
       "      <th>passed</th>\n",
       "    </tr>\n",
       "  </thead>\n",
       "  <tbody>\n",
       "    <tr>\n",
       "      <th>0</th>\n",
       "      <td>mmb_static</td>\n",
       "      <td>1</td>\n",
       "      <td>1</td>\n",
       "      <td>30</td>\n",
       "      <td>2024-02-14 15:51:09</td>\n",
       "      <td>log_staticMMBtest_run1log1_20240214_15-51-09.txt</td>\n",
       "      <td>mmb_static/log_staticMMBtest_run1log1_20240214...</td>\n",
       "      <td>1</td>\n",
       "      <td>[65536]</td>\n",
       "      <td>1</td>\n",
       "      <td>False</td>\n",
       "    </tr>\n",
       "  </tbody>\n",
       "</table>\n",
       "</div>"
      ],
      "text/plain": [
       "         kind  run  log  lines                 time  \\\n",
       "0  mmb_static    1    1     30  2024-02-14 15:51:09   \n",
       "\n",
       "                                               name  \\\n",
       "0  log_staticMMBtest_run1log1_20240214_15-51-09.txt   \n",
       "\n",
       "                                                path  iters  \\\n",
       "0  mmb_static/log_staticMMBtest_run1log1_20240214...      1   \n",
       "\n",
       "  expected_vs_actual  diff_count  passed  \n",
       "0            [65536]           1   False  "
      ]
     },
     "execution_count": 44,
     "metadata": {},
     "output_type": "execute_result"
    }
   ],
   "source": [
    "df"
   ]
  },
  {
   "cell_type": "code",
   "execution_count": 50,
   "metadata": {},
   "outputs": [
    {
     "data": {
      "text/plain": [
       "0"
      ]
     },
     "execution_count": 50,
     "metadata": {},
     "output_type": "execute_result"
    }
   ],
   "source": [
    "vs = df.expected_vs_actual[0][1:-1].split(',')\n",
    "vs = list(map(int, vs))\n",
    "sum([x == -1 for x in vs]) * 2"
   ]
  },
  {
   "cell_type": "code",
   "execution_count": 45,
   "metadata": {},
   "outputs": [],
   "source": [
    "masks = []\n",
    "for path in df.path:\n",
    "    lines = open(path).read().split('\\n')\n",
    "    mask, mask_bool = [], False\n",
    "    for line in lines:\n",
    "        if \"mask\" in line:\n",
    "            mask_bool = True\n",
    "            continue\n",
    "        elif (\"SECTION\" in line) or (line == \"\"):\n",
    "            mask_bool = False\n",
    "        if mask_bool:\n",
    "            mask.append(line)\n",
    "    if len(mask): masks.append(mask)"
   ]
  },
  {
   "cell_type": "code",
   "execution_count": 51,
   "metadata": {},
   "outputs": [
    {
     "data": {
      "text/plain": [
       "65536"
      ]
     },
     "execution_count": 51,
     "metadata": {},
     "output_type": "execute_result"
    }
   ],
   "source": [
    "len(masks[0][0])*2"
   ]
  },
  {
   "cell_type": "code",
   "execution_count": null,
   "metadata": {},
   "outputs": [],
   "source": []
  }
 ],
 "metadata": {
  "kernelspec": {
   "display_name": "weav",
   "language": "python",
   "name": "python3"
  },
  "language_info": {
   "codemirror_mode": {
    "name": "ipython",
    "version": 3
   },
   "file_extension": ".py",
   "mimetype": "text/x-python",
   "name": "python",
   "nbconvert_exporter": "python",
   "pygments_lexer": "ipython3",
   "version": "3.10.12"
  }
 },
 "nbformat": 4,
 "nbformat_minor": 2
}
