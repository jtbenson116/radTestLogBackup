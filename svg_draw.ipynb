{
 "cells": [
  {
   "cell_type": "code",
   "execution_count": 59,
   "metadata": {},
   "outputs": [],
   "source": [
    "import cairo\n",
    "\n",
    "ncols, nbanks, nsections, nrows = 4096, 8, 16, 14\n",
    "_32k = 32768\n",
    "shape = (17500, 17500)\n",
    "\n",
    "def draw_dots(surface, x_start, y_start, bits):\n",
    "    # Set dot radius and gap between dots\n",
    "    dot_radius = 1.25\n",
    "    dot_gap = 1.75\n",
    "\n",
    "    # Loop to draw `ncols` dots\n",
    "    for i in range(ncols):\n",
    "        # Calculate dot position\n",
    "        x =  x_start + (i * (2 * dot_radius + dot_gap)) + dot_radius\n",
    "        if x > shape[0]:\n",
    "            print(\"x overflow\", x, i)\n",
    "            break\n",
    "        if y_start > shape[1]:\n",
    "            print(\"y overflow\", y_start, i)\n",
    "            break\n",
    "\n",
    "        # Alternate between green and red colors\n",
    "        if bits[i] == '0':\n",
    "            context.set_source_rgb(0, 1, 0)  # Green color\n",
    "        else:\n",
    "            context.set_source_rgb(1, 0, 0)  # Red color\n",
    "\n",
    "        # Draw the dot\n",
    "        context.arc(x, y_start, dot_radius, 0, 2 * 3.14159)  # Full circle\n",
    "        context.fill()"
   ]
  },
  {
   "cell_type": "code",
   "execution_count": 66,
   "metadata": {},
   "outputs": [
    {
     "name": "stdout",
     "output_type": "stream",
     "text": [
      "drawing bank 0\n",
      "drawing bank 1\n",
      "drawing bank 2\n",
      "drawing bank 3\n",
      "drawing bank 4\n",
      "drawing bank 5\n",
      "drawing bank 6\n",
      "drawing bank 7\n",
      "1458\n",
      "done.\n"
     ]
    }
   ],
   "source": [
    "def drawMMB():\n",
    "    # Create a Cairo ImageSurface\n",
    "    surface = cairo.ImageSurface(cairo.FORMAT_ARGB32, shape[0], shape[1])\n",
    "\n",
    "    y_start = 317\n",
    "    bank_sep = 150\n",
    "    row_sep = 7\n",
    "\n",
    "    for bank in range(nbanks):\n",
    "        print(f\"drawing bank {bank}\")\n",
    "        for row in range(nrows):\n",
    "            y = y_start + (bank * bank_sep) + (row * row_sep)\n",
    "            draw_dots(surface, 20, y, ['0', '1'] * int(ncols/2))\n",
    "\n",
    "    print(y)\n",
    "    surface.write_to_png(\"mmb.png\")\n",
    "    print(\"done.\")\n",
    "drawMMB()"
   ]
  },
  {
   "cell_type": "code",
   "execution_count": 60,
   "metadata": {},
   "outputs": [],
   "source": [
    "f = open(\"test_bits.txt\", \"r\")\n",
    "lines = f.read().split(\"\\n\")[:14]\n",
    "f.close()"
   ]
  },
  {
   "cell_type": "code",
   "execution_count": 68,
   "metadata": {},
   "outputs": [
    {
     "name": "stdout",
     "output_type": "stream",
     "text": [
      "VR 0\n",
      "VR 1\n",
      "VR 2\n",
      "VR 3\n",
      "VR 4\n",
      "VR 5\n",
      "VR 6\n",
      "VR 7\n",
      "VR 8\n",
      "VR 9\n",
      "VR 10\n",
      "VR 11\n",
      "VR 12\n",
      "VR 13\n"
     ]
    }
   ],
   "source": [
    "import time\n",
    "surface = cairo.ImageSurface(cairo.FORMAT_ARGB32, shape[0], shape[1])\n",
    "# Create a context for drawing on the surface\n",
    "context = cairo.Context(surface)\n",
    "context.set_source_rgba(1, 1, 1, 1)\n",
    "\n",
    "bank_sep, vr_sep = 175, 10\n",
    "y_start = 25\n",
    "\n",
    "bank, vr = 0, 0\n",
    "for i in range(len(lines)): #iterate over masks (lines[i])\n",
    "    print(f\"VR {i}\")\n",
    "    prev = 0\n",
    "    for curr in range(ncols, len(lines[i])+1, ncols):\n",
    "        # print(prev, curr)\n",
    "        bank = (curr / ncols) - 1\n",
    "        y = y_start + (bank_sep * bank) + (vr_sep * i)\n",
    "        # print(f\"y: {y}\")\n",
    "        draw_dots(surface, 50, y, lines[i][prev:curr])\n",
    "        surface.write_to_png(\"./tmp.png\")\n",
    "        prev = curr"
   ]
  },
  {
   "cell_type": "code",
   "execution_count": null,
   "metadata": {},
   "outputs": [],
   "source": [
    "surface."
   ]
  },
  {
   "cell_type": "code",
   "execution_count": 71,
   "metadata": {},
   "outputs": [
    {
     "data": {
      "text/plain": [
       "32768"
      ]
     },
     "execution_count": 71,
     "metadata": {},
     "output_type": "execute_result"
    }
   ],
   "source": [
    "# greeking? svg level of detail/bounding box"
   ]
  },
  {
   "cell_type": "code",
   "execution_count": 74,
   "metadata": {},
   "outputs": [
    {
     "data": {
      "text/plain": [
       "4126"
      ]
     },
     "execution_count": 74,
     "metadata": {},
     "output_type": "execute_result"
    }
   ],
   "source": [
    "sum([int(x) for x in lines[0][:_32k]])"
   ]
  },
  {
   "cell_type": "code",
   "execution_count": null,
   "metadata": {},
   "outputs": [],
   "source": []
  },
  {
   "cell_type": "code",
   "execution_count": 27,
   "metadata": {},
   "outputs": [
    {
     "data": {
      "text/plain": [
       "'0100010101100111'"
      ]
     },
     "execution_count": 27,
     "metadata": {},
     "output_type": "execute_result"
    }
   ],
   "source": [
    "'0100010101100111'"
   ]
  },
  {
   "cell_type": "code",
   "execution_count": null,
   "metadata": {},
   "outputs": [],
   "source": [
    "'84,'"
   ]
  },
  {
   "cell_type": "code",
   "execution_count": 30,
   "metadata": {},
   "outputs": [
    {
     "data": {
      "text/plain": [
       "17767"
      ]
     },
     "execution_count": 30,
     "metadata": {},
     "output_type": "execute_result"
    }
   ],
   "source": [
    "int('0100010101100111', 2)"
   ]
  },
  {
   "cell_type": "code",
   "execution_count": 52,
   "metadata": {},
   "outputs": [],
   "source": [
    "def drawL1():\n",
    "    surface = cairo.ImageSurface(cairo.FORMAT_ARGB32, 17500, 17500)\n",
    "\n",
    "    y_start = 50\n",
    "    vmr_sep, vmr_count = 5, 48\n",
    "    section_sep, section_count = 350, 4\n",
    "    bank_sep, bank_count = 2000, 8 \n",
    "\n",
    "\n",
    "    for bank in range(bank_count):\n",
    "        print(f\"drawing bank {bank}\")\n",
    "        for section in range(section_count):\n",
    "            for vmr in range(vmr_count):\n",
    "                y = y_start + (bank * bank_sep) + (vmr * vmr_sep) + (section * section_sep)\n",
    "                draw_dots(surface, 50, y)\n",
    "    \n",
    "    # surface.write_to_png(\"l1.png\")\n",
    "    print(\"done.\")"
   ]
  },
  {
   "cell_type": "code",
   "execution_count": 13,
   "metadata": {},
   "outputs": [],
   "source": [
    "f = open(\"/home/jacob/radTestLogBackup/mmb_dynamic/_logs/log_dynamicMMBtest_run2log283_20231113_03-30-42.txt\")\n",
    "lines = f.read().split(\"\\n\")\n",
    "f.close()"
   ]
  },
  {
   "cell_type": "code",
   "execution_count": 47,
   "metadata": {},
   "outputs": [],
   "source": [
    "masks = []"
   ]
  },
  {
   "cell_type": "code",
   "execution_count": 44,
   "metadata": {},
   "outputs": [],
   "source": []
  },
  {
   "cell_type": "code",
   "execution_count": 46,
   "metadata": {},
   "outputs": [
    {
     "data": {
      "text/plain": [
       "49"
      ]
     },
     "execution_count": 46,
     "metadata": {},
     "output_type": "execute_result"
    }
   ],
   "source": [
    "len(mask)"
   ]
  },
  {
   "cell_type": "code",
   "execution_count": null,
   "metadata": {},
   "outputs": [],
   "source": []
  }
 ],
 "metadata": {
  "kernelspec": {
   "display_name": "weav",
   "language": "python",
   "name": "python3"
  },
  "language_info": {
   "codemirror_mode": {
    "name": "ipython",
    "version": 3
   },
   "file_extension": ".py",
   "mimetype": "text/x-python",
   "name": "python",
   "nbconvert_exporter": "python",
   "pygments_lexer": "ipython3",
   "version": "3.8.16"
  }
 },
 "nbformat": 4,
 "nbformat_minor": 2
}
